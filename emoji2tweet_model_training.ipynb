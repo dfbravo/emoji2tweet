{
  "nbformat": 4,
  "nbformat_minor": 0,
  "metadata": {
    "colab": {
      "name": "emoji2tweet.ipynb",
      "provenance": []
    },
    "kernelspec": {
      "name": "python3",
      "display_name": "Python 3"
    },
    "accelerator": "GPU"
  },
  "cells": [
    {
      "cell_type": "code",
      "metadata": {
        "id": "F5eMUGBJ24zC",
        "colab_type": "code",
        "colab": {
          "base_uri": "https://localhost:8080/",
          "height": 35
        },
        "outputId": "ce16c01e-b648-4354-d332-9e7764889f6c"
      },
      "source": [
        "import os\n",
        "from pathlib import Path\n",
        "import datetime\n",
        "import pickle\n",
        "import numpy as np\n",
        "import pandas as pd\n",
        "import matplotlib.pyplot as plt\n",
        "from gensim.models import Word2Vec\n",
        "from nltk.translate.bleu_score import corpus_bleu\n",
        "\n",
        "from keras.models import Model\n",
        "from keras.models import load_model\n",
        "from keras.layers import Input\n",
        "from keras.models import Sequential\n",
        "from keras.layers import Dense\n",
        "from keras.layers import Dropout\n",
        "from keras.layers import Embedding\n",
        "from keras.layers import LSTM\n",
        "from keras.layers.merge import add\n",
        "from keras.callbacks import ModelCheckpoint\n",
        "\n",
        "from keras.preprocessing.text import Tokenizer\n",
        "from keras.preprocessing.sequence import pad_sequences\n",
        "from keras.utils import to_categorical"
      ],
      "execution_count": null,
      "outputs": [
        {
          "output_type": "stream",
          "text": [
            "Using TensorFlow backend.\n"
          ],
          "name": "stderr"
        }
      ]
    },
    {
      "cell_type": "markdown",
      "metadata": {
        "id": "0vIbLZnETJJr",
        "colab_type": "text"
      },
      "source": [
        "# Load Data from GDrive\n"
      ]
    },
    {
      "cell_type": "code",
      "metadata": {
        "id": "75SPY3bcTNhU",
        "colab_type": "code",
        "colab": {
          "base_uri": "https://localhost:8080/",
          "height": 127
        },
        "outputId": "52b269ff-bec0-4021-bd79-6094ac0a2cbe"
      },
      "source": [
        "from google.colab import drive\n",
        "drive.mount('/content/drive')"
      ],
      "execution_count": null,
      "outputs": [
        {
          "output_type": "stream",
          "text": [
            "Go to this URL in a browser: https://accounts.google.com/o/oauth2/auth?client_id=947318989803-6bn6qk8qdgf4n4g3pfee6491hc0brc4i.apps.googleusercontent.com&redirect_uri=urn%3aietf%3awg%3aoauth%3a2.0%3aoob&response_type=code&scope=email%20https%3a%2f%2fwww.googleapis.com%2fauth%2fdocs.test%20https%3a%2f%2fwww.googleapis.com%2fauth%2fdrive%20https%3a%2f%2fwww.googleapis.com%2fauth%2fdrive.photos.readonly%20https%3a%2f%2fwww.googleapis.com%2fauth%2fpeopleapi.readonly\n",
            "\n",
            "Enter your authorization code:\n",
            "··········\n",
            "Mounted at /content/drive\n"
          ],
          "name": "stdout"
        }
      ]
    },
    {
      "cell_type": "markdown",
      "metadata": {
        "id": "OpkUod6yaJNe",
        "colab_type": "text"
      },
      "source": [
        "# Read and Prepare Data for Model Input\n",
        "I read the data from GDrive and add placeholder tokens to denote the start and end of a sequence. These are added to every tweet in the dataset.\n",
        "\n",
        "The placeholders are required for the RNN."
      ]
    },
    {
      "cell_type": "code",
      "metadata": {
        "id": "q2bM-QOi7_vH",
        "colab_type": "code",
        "colab": {
          "base_uri": "https://localhost:8080/",
          "height": 419
        },
        "outputId": "922ced89-539e-4d28-aad8-386dcc76278c"
      },
      "source": [
        "data_df = pd.read_csv('/content/drive/My Drive/Capstone/processed_tweets.csv', index_col=0)\n",
        "# Add placeholder to start and end of tweet\n",
        "data_df['tweet_text'] = data_df['tweet_text'].apply(lambda x: ' '.join(['startseq', x, 'endseq']))\n",
        "#update n_tokens\n",
        "data_df['n_tokens'] = data_df['n_tokens'] + 2\n",
        "data_df"
      ],
      "execution_count": null,
      "outputs": [
        {
          "output_type": "execute_result",
          "data": {
            "text/html": [
              "<div>\n",
              "<style scoped>\n",
              "    .dataframe tbody tr th:only-of-type {\n",
              "        vertical-align: middle;\n",
              "    }\n",
              "\n",
              "    .dataframe tbody tr th {\n",
              "        vertical-align: top;\n",
              "    }\n",
              "\n",
              "    .dataframe thead th {\n",
              "        text-align: right;\n",
              "    }\n",
              "</style>\n",
              "<table border=\"1\" class=\"dataframe\">\n",
              "  <thead>\n",
              "    <tr style=\"text-align: right;\">\n",
              "      <th></th>\n",
              "      <th>tweet_text</th>\n",
              "      <th>emojis</th>\n",
              "      <th>emojis_unq</th>\n",
              "      <th>n_tokens</th>\n",
              "      <th>n_emojis</th>\n",
              "      <th>n_emojis_unq</th>\n",
              "    </tr>\n",
              "  </thead>\n",
              "  <tbody>\n",
              "    <tr>\n",
              "      <th>1</th>\n",
              "      <td>startseq Thanks so much pretty Means a lot 🥺 🥺...</td>\n",
              "      <td>🥺 🥺 💖 💖 😳 💀</td>\n",
              "      <td>💀 💖 😳 🥺</td>\n",
              "      <td>23</td>\n",
              "      <td>6</td>\n",
              "      <td>4</td>\n",
              "    </tr>\n",
              "    <tr>\n",
              "      <th>10</th>\n",
              "      <td>startseq love you more 😍 😍 🥵 🥵 🥵 endseq</td>\n",
              "      <td>😍 😍 🥵 🥵 🥵</td>\n",
              "      <td>😍 🥵</td>\n",
              "      <td>10</td>\n",
              "      <td>5</td>\n",
              "      <td>2</td>\n",
              "    </tr>\n",
              "    <tr>\n",
              "      <th>14</th>\n",
              "      <td>startseq came home to gifts for no reason 🥺 🥺 ...</td>\n",
              "      <td>🥺 🥺</td>\n",
              "      <td>🥺</td>\n",
              "      <td>13</td>\n",
              "      <td>2</td>\n",
              "      <td>1</td>\n",
              "    </tr>\n",
              "    <tr>\n",
              "      <th>20</th>\n",
              "      <td>startseq الحمدللهههه 💛 💛 💛 💛 endseq</td>\n",
              "      <td>💛 💛 💛 💛</td>\n",
              "      <td>💛</td>\n",
              "      <td>7</td>\n",
              "      <td>4</td>\n",
              "      <td>1</td>\n",
              "    </tr>\n",
              "    <tr>\n",
              "      <th>25</th>\n",
              "      <td>startseq Especially when you lose in that 8 ba...</td>\n",
              "      <td>😂 😂</td>\n",
              "      <td>😂</td>\n",
              "      <td>13</td>\n",
              "      <td>2</td>\n",
              "      <td>1</td>\n",
              "    </tr>\n",
              "    <tr>\n",
              "      <th>...</th>\n",
              "      <td>...</td>\n",
              "      <td>...</td>\n",
              "      <td>...</td>\n",
              "      <td>...</td>\n",
              "      <td>...</td>\n",
              "      <td>...</td>\n",
              "    </tr>\n",
              "    <tr>\n",
              "      <th>683342</th>\n",
              "      <td>startseq I thought sac meant bag in French so ...</td>\n",
              "      <td>🤣</td>\n",
              "      <td>🤣</td>\n",
              "      <td>15</td>\n",
              "      <td>1</td>\n",
              "      <td>1</td>\n",
              "    </tr>\n",
              "    <tr>\n",
              "      <th>683347</th>\n",
              "      <td>startseq Re tla bona 🤣 🤣 🤣 endseq</td>\n",
              "      <td>🤣 🤣 🤣</td>\n",
              "      <td>🤣</td>\n",
              "      <td>8</td>\n",
              "      <td>3</td>\n",
              "      <td>1</td>\n",
              "    </tr>\n",
              "    <tr>\n",
              "      <th>683353</th>\n",
              "      <td>startseq Loveeeee 🥰 endseq</td>\n",
              "      <td>🥰</td>\n",
              "      <td>🥰</td>\n",
              "      <td>4</td>\n",
              "      <td>1</td>\n",
              "      <td>1</td>\n",
              "    </tr>\n",
              "    <tr>\n",
              "      <th>683354</th>\n",
              "      <td>startseq Can imagine its Rocking to BLUE MOON ...</td>\n",
              "      <td>😎 🍺 🍹</td>\n",
              "      <td>🍹 🍺 😎</td>\n",
              "      <td>13</td>\n",
              "      <td>3</td>\n",
              "      <td>3</td>\n",
              "    </tr>\n",
              "    <tr>\n",
              "      <th>683361</th>\n",
              "      <td>startseq Fingers crossed 🤞 endseq</td>\n",
              "      <td>🤞</td>\n",
              "      <td>🤞</td>\n",
              "      <td>5</td>\n",
              "      <td>1</td>\n",
              "      <td>1</td>\n",
              "    </tr>\n",
              "  </tbody>\n",
              "</table>\n",
              "<p>121326 rows × 6 columns</p>\n",
              "</div>"
            ],
            "text/plain": [
              "                                               tweet_text  ... n_emojis_unq\n",
              "1       startseq Thanks so much pretty Means a lot 🥺 🥺...  ...            4\n",
              "10                startseq love you more 😍 😍 🥵 🥵 🥵 endseq  ...            2\n",
              "14      startseq came home to gifts for no reason 🥺 🥺 ...  ...            1\n",
              "20                    startseq الحمدللهههه 💛 💛 💛 💛 endseq  ...            1\n",
              "25      startseq Especially when you lose in that 8 ba...  ...            1\n",
              "...                                                   ...  ...          ...\n",
              "683342  startseq I thought sac meant bag in French so ...  ...            1\n",
              "683347                  startseq Re tla bona 🤣 🤣 🤣 endseq  ...            1\n",
              "683353                         startseq Loveeeee 🥰 endseq  ...            1\n",
              "683354  startseq Can imagine its Rocking to BLUE MOON ...  ...            3\n",
              "683361                  startseq Fingers crossed 🤞 endseq  ...            1\n",
              "\n",
              "[121326 rows x 6 columns]"
            ]
          },
          "metadata": {
            "tags": []
          },
          "execution_count": 3
        }
      ]
    },
    {
      "cell_type": "markdown",
      "metadata": {
        "id": "nK7V0LhobNXH",
        "colab_type": "text"
      },
      "source": [
        "I need to keep track of the maximum number of tokens in a tweet, and the size of the vocabulary, as they dictate the size of vectors used in the model.\n"
      ]
    },
    {
      "cell_type": "code",
      "metadata": {
        "id": "3k_ENxmcPrgm",
        "colab_type": "code",
        "colab": {
          "base_uri": "https://localhost:8080/",
          "height": 71
        },
        "outputId": "4d33b695-9573-46a9-bdba-1163b2ae2c72"
      },
      "source": [
        "n_max_tokens = data_df['n_tokens'].max()\n",
        "\n",
        "# Arbitrary choice. \n",
        "# TODO: Check word counts and use 95percentile or some other more robust way of choosing this value\n",
        "n_max_vocab_size = 20000\n",
        "\n",
        "tokenizer = Tokenizer(num_words=n_max_vocab_size, oov_token='<unk>')\n",
        "tokenizer.fit_on_texts(data_df['tweet_text'])\n",
        "# word_index returns the actual vocab size of the corpus\n",
        "# but uses the max vocab size passed on in num_words\n",
        "# see: https://stackoverflow.com/questions/46202519/keras-tokenizer-num-words-doesnt-seem-to-work\n",
        "# add 1 to account for <unk>\n",
        "actual_vocab_size = len(tokenizer.word_index) + 1\n",
        "\n",
        "print(f'Maximum number of tokens per tweet: {n_max_tokens}')\n",
        "print(f'Actual vocabulary size: {actual_vocab_size}')\n",
        "print(f'Using the top {n_max_vocab_size} most frequent words')\n"
      ],
      "execution_count": null,
      "outputs": [
        {
          "output_type": "stream",
          "text": [
            "Maximum number of tokens per tweet: 32\n",
            "Actual vocabulary size: 75454\n",
            "Using the top 20000 most frequent words\n"
          ],
          "name": "stdout"
        }
      ]
    },
    {
      "cell_type": "markdown",
      "metadata": {
        "id": "bM7WAJB3bsxd",
        "colab_type": "text"
      },
      "source": [
        "## Load Word2Vec Model\n",
        "I load the word2vec model that will be used to create the feature vector. Each emoji is converted to a vector using this model. I create a helper function to quickly convert a string of emojis (as it is stored in the dataframe), into the resulting feature vector. The feature vector is the sum of the vector representations of each emoji in the string.\n"
      ]
    },
    {
      "cell_type": "code",
      "metadata": {
        "id": "edJBjJCm-OM7",
        "colab_type": "code",
        "colab": {
          "base_uri": "https://localhost:8080/",
          "height": 73
        },
        "outputId": "17bd7231-e197-462e-f458-7551af4cc05a"
      },
      "source": [
        "# w2v_model loaded outside of the function to prevent loading the model on every function call\n",
        "w2v_model = Word2Vec.load('/content/drive/My Drive/Capstone/w2v_all.model')\n",
        "def vectorize_emojis(emoji_str):\n",
        "    emojis = emoji_str.split(' ')\n",
        "    vec_sum = np.zeros(300)\n",
        "    for emj in emojis:\n",
        "        try:\n",
        "            vec = w2v_model.wv[emj]\n",
        "            vec_sum += vec\n",
        "        except KeyError:\n",
        "            pass\n",
        "            #print(f'Emoji not in w2v: {emj}')\n",
        "            #ignoring emojis not in the list\n",
        "    return vec_sum"
      ],
      "execution_count": null,
      "outputs": [
        {
          "output_type": "stream",
          "text": [
            "/usr/local/lib/python3.6/dist-packages/smart_open/smart_open_lib.py:253: UserWarning: This function is deprecated, use smart_open.open instead. See the migration notes for details: https://github.com/RaRe-Technologies/smart_open/blob/master/README.rst#migrating-to-the-new-open-function\n",
            "  'See the migration notes for details: %s' % _MIGRATION_NOTES_URL\n"
          ],
          "name": "stderr"
        }
      ]
    },
    {
      "cell_type": "markdown",
      "metadata": {
        "id": "TqrP2ZbMcGmr",
        "colab_type": "text"
      },
      "source": [
        "## Creating the Input to the Model\n",
        "The tweet text has to be expanded into partial sequences so that it can be fed into the RNN. The partial sequences are essentially concatenated with the feature vector.\n",
        "\n",
        "The `create_sequences` function will generate this data. Though it is very memory intensive, and I had to implement a data generator."
      ]
    },
    {
      "cell_type": "code",
      "metadata": {
        "id": "TDD2Z7OeUB1n",
        "colab_type": "code",
        "colab": {}
      },
      "source": [
        "# function taken and adapted from: https://machinelearningmastery.com/develop-a-deep-learning-caption-generation-model-in-python/\n",
        "def create_sequences(df, n_max_tokens, vocab_size):\n",
        "  # initiate empty lists\n",
        "  rnn_seqs, emoji_vecs, y = [], [], []\n",
        "  #I'm iterating over a df, yuck\n",
        "  #just cant think of the alternative atm\n",
        "  for _, row in df.iterrows():\n",
        "    tweet_text = row['tweet_text']\n",
        "    emoji_vec = vectorize_emojis(row['emojis'])\n",
        "    seq = tokenizer.texts_to_sequences([tweet_text])[0]\n",
        "    for i in range(1, len(seq)):\n",
        "      # split into input and output pair\n",
        "      in_seq, out_seq = seq[:i], seq[i]\n",
        "      # pad input sequence\n",
        "      in_seq = pad_sequences([in_seq], maxlen=n_max_tokens)[0]\n",
        "      # encode output sequence\n",
        "      out_seq = to_categorical([out_seq], num_classes=vocab_size)[0]\n",
        "      emoji_vecs.append(emoji_vec)\n",
        "      rnn_seqs.append(in_seq)\n",
        "      y.append(out_seq)\n",
        "  return np.array(emoji_vecs), np.array(rnn_seqs), np.array(y)"
      ],
      "execution_count": null,
      "outputs": []
    },
    {
      "cell_type": "code",
      "metadata": {
        "id": "P6G29x7zVl4v",
        "colab_type": "code",
        "colab": {}
      },
      "source": [
        "# functions taken and adapted from: https://machinelearningmastery.com/develop-a-deep-learning-caption-generation-model-in-python/\n",
        "def model_data_generator(df, n_max_tokens, vocab_size):\n",
        "  while 1:\n",
        "    for _, row in df.iterrows():\n",
        "      tweet_text = row['tweet_text']\n",
        "      emoji_str = row['emojis']\n",
        "      emoji_vecs, rnn_seqs, y = create_sequences_gen(tweet_text, emoji_str, n_max_tokens, vocab_size)\n",
        "      yield [[emoji_vecs, rnn_seqs], y]\n",
        "\n",
        "def create_sequences_gen(tweet_text, emoji_str, n_max_tokens, vocab_size):\n",
        "  # initiate empty lists\n",
        "  rnn_seqs, emoji_vecs, y = [], [], []\n",
        "  emoji_vec = vectorize_emojis(emoji_str)\n",
        "  seq = tokenizer.texts_to_sequences([tweet_text])[0]\n",
        "  for i in range(1, len(seq)):\n",
        "    # split into input and output pair\n",
        "    in_seq, out_seq = seq[:i], seq[i]\n",
        "    # pad input sequence\n",
        "    in_seq = pad_sequences([in_seq], maxlen=n_max_tokens)[0]\n",
        "    # encode output sequence\n",
        "    out_seq = to_categorical([out_seq], num_classes=vocab_size)[0]\n",
        "    emoji_vecs.append(emoji_vec)\n",
        "    rnn_seqs.append(in_seq)\n",
        "    y.append(out_seq)\n",
        "  return np.array(emoji_vecs), np.array(rnn_seqs), np.array(y)"
      ],
      "execution_count": null,
      "outputs": []
    },
    {
      "cell_type": "markdown",
      "metadata": {
        "id": "nwKtBCDscr_I",
        "colab_type": "text"
      },
      "source": [
        "## Defining the Model\n"
      ]
    },
    {
      "cell_type": "code",
      "metadata": {
        "id": "6e1Mr4KFcdtQ",
        "colab_type": "code",
        "colab": {}
      },
      "source": [
        "# function taken and adapted from: https://machinelearningmastery.com/develop-a-deep-learning-caption-generation-model-in-python/\n",
        "def define_model(n_max_tokens, vocab_size):\n",
        "  # feature extractor model\n",
        "  inputs1 = Input(shape=(300,))\n",
        "  fe1 = Dropout(0.5)(inputs1)\n",
        "  fe2 = Dense(256, activation='relu')(fe1)\n",
        "  # sequence model\n",
        "  inputs2 = Input(shape=(n_max_tokens,))\n",
        "  se1 = Embedding(vocab_size, 256, mask_zero=True)(inputs2)\n",
        "  se2 = Dropout(0.5)(se1)\n",
        "  se3 = LSTM(256)(se2)\n",
        "  # decoder model\n",
        "  decoder1 = add([fe2, se3])\n",
        "  decoder2 = Dense(256, activation='relu')(decoder1)\n",
        "  outputs = Dense(vocab_size, activation='softmax')(decoder2)\n",
        "  model = Model(inputs=[inputs1, inputs2], outputs=outputs)\n",
        "  model.compile(loss='categorical_crossentropy', optimizer='adam')\n",
        "  # summarize model\n",
        "  print(model.summary())\n",
        "  return model"
      ],
      "execution_count": null,
      "outputs": []
    },
    {
      "cell_type": "code",
      "metadata": {
        "id": "nty2WIvekN9c",
        "colab_type": "code",
        "colab": {
          "base_uri": "https://localhost:8080/",
          "height": 557
        },
        "outputId": "c9c9cef2-3901-418f-a58d-820da16ce6d0"
      },
      "source": [
        "# Save an empty model that I can use to \"reset\" my weights\n",
        "model = define_model(n_max_tokens, n_max_vocab_size)\n",
        "#model.save('/content/drive/My Drive/Capstone/tweetmoji_empty_model.h5')"
      ],
      "execution_count": null,
      "outputs": [
        {
          "output_type": "stream",
          "text": [
            "Model: \"model_1\"\n",
            "__________________________________________________________________________________________________\n",
            "Layer (type)                    Output Shape         Param #     Connected to                     \n",
            "==================================================================================================\n",
            "input_2 (InputLayer)            (None, 32)           0                                            \n",
            "__________________________________________________________________________________________________\n",
            "input_1 (InputLayer)            (None, 300)          0                                            \n",
            "__________________________________________________________________________________________________\n",
            "embedding_1 (Embedding)         (None, 32, 256)      5120000     input_2[0][0]                    \n",
            "__________________________________________________________________________________________________\n",
            "dropout_1 (Dropout)             (None, 300)          0           input_1[0][0]                    \n",
            "__________________________________________________________________________________________________\n",
            "dropout_2 (Dropout)             (None, 32, 256)      0           embedding_1[0][0]                \n",
            "__________________________________________________________________________________________________\n",
            "dense_1 (Dense)                 (None, 256)          77056       dropout_1[0][0]                  \n",
            "__________________________________________________________________________________________________\n",
            "lstm_1 (LSTM)                   (None, 256)          525312      dropout_2[0][0]                  \n",
            "__________________________________________________________________________________________________\n",
            "add_1 (Add)                     (None, 256)          0           dense_1[0][0]                    \n",
            "                                                                 lstm_1[0][0]                     \n",
            "__________________________________________________________________________________________________\n",
            "dense_2 (Dense)                 (None, 256)          65792       add_1[0][0]                      \n",
            "__________________________________________________________________________________________________\n",
            "dense_3 (Dense)                 (None, 20000)        5140000     dense_2[0][0]                    \n",
            "==================================================================================================\n",
            "Total params: 10,928,160\n",
            "Trainable params: 10,928,160\n",
            "Non-trainable params: 0\n",
            "__________________________________________________________________________________________________\n",
            "None\n"
          ],
          "name": "stdout"
        }
      ]
    },
    {
      "cell_type": "code",
      "metadata": {
        "id": "KixX4JZUf09K",
        "colab_type": "code",
        "colab": {
          "base_uri": "https://localhost:8080/",
          "height": 258
        },
        "outputId": "e7fd4ffe-0215-4792-f951-e0fb11764d81"
      },
      "source": [
        "os.environ['TZ'] = 'America/Toronto'\n",
        "date_str = datetime.datetime.now().strftime('%Y%m%d_%H%M')\n",
        "output_dir = f\"/content/drive/My Drive/Capstone/model_output/{date_str}\"\n",
        "print(f'OUTPUT: {output_dir}')\n",
        "Path(output_dir).mkdir(parents=True, exist_ok=True)\n",
        "output_filename=os.path.join(output_dir, \"tweetmoji-epoch{epoch}.h5\")\n",
        "checkpoint = ModelCheckpoint(output_filename, monitor='loss', period=1)\n",
        "callbacks_list = [checkpoint]\n",
        "\n",
        "n_samples = 4000\n",
        "n_epochs = 10\n",
        "input_df = data_df[['tweet_text', 'emojis']].head(n_samples)\n",
        "data_gen = model_data_generator(input_df, n_max_tokens, n_max_vocab_size)\n",
        "# reset model\n",
        "model = load_model('/content/drive/My Drive/Capstone/tweetmoji_empty_model.h5')\n",
        "model_history = model.fit_generator(data_gen, epochs=n_epochs, steps_per_epoch=n_samples, verbose=1, callbacks=callbacks_list)\n",
        "#model.save('/content/drive/My Drive/Capstone/tweetmoji_ep5_n4000_gen')\n",
        "model_history_df = pd.DataFrame(model_history.history)\n",
        "model_history_df.index.name = 'epoch'\n",
        "model_history_df.to_csv(os.path.join(output_dir, 'history.csv'))"
      ],
      "execution_count": null,
      "outputs": [
        {
          "output_type": "stream",
          "text": [
            "OUTPUT: /content/drive/My Drive/Capstone/model_output/20200625_0254\n"
          ],
          "name": "stdout"
        },
        {
          "output_type": "stream",
          "text": [
            "/usr/local/lib/python3.6/dist-packages/tensorflow/python/framework/indexed_slices.py:434: UserWarning: Converting sparse IndexedSlices to a dense Tensor of unknown shape. This may consume a large amount of memory.\n",
            "  \"Converting sparse IndexedSlices to a dense Tensor of unknown shape. \"\n"
          ],
          "name": "stderr"
        },
        {
          "output_type": "stream",
          "text": [
            "Epoch 1/10\n",
            "4000/4000 [==============================] - 343s 86ms/step - loss: 6.4869\n",
            "Epoch 2/10\n",
            "4000/4000 [==============================] - 347s 87ms/step - loss: 5.4359\n",
            "Epoch 3/10\n",
            "4000/4000 [==============================] - 345s 86ms/step - loss: 5.0632\n",
            "Epoch 4/10\n",
            "4000/4000 [==============================] - 344s 86ms/step - loss: 4.7362\n",
            "Epoch 5/10\n",
            "4000/4000 [==============================] - 342s 85ms/step - loss: 4.4616\n",
            "Epoch 6/10\n",
            "4000/4000 [==============================] - 342s 85ms/step - loss: 4.2329\n",
            "Epoch 7/10\n",
            "3000/4000 [=====================>........] - ETA: 1:26 - loss: 3.9594"
          ],
          "name": "stdout"
        }
      ]
    },
    {
      "cell_type": "markdown",
      "metadata": {
        "id": "QNVvf0xdXzEC",
        "colab_type": "text"
      },
      "source": [
        "## Generating Tweets\n",
        "\n",
        "Here I define a function that is used to iteratively query the model to generate tweet. \n"
      ]
    },
    {
      "cell_type": "code",
      "metadata": {
        "id": "v8xGKupxey0K",
        "colab_type": "code",
        "colab": {}
      },
      "source": [
        "def generate_tweet(tweetmoji_model, tokenizer, n_max_tokens, in_emojis, in_text = 'startseq'):\n",
        "  emoji_vec = vectorize_emojis(in_emojis)\n",
        "  seq = tokenizer.texts_to_sequences([in_text])[0]\n",
        "  endseq = tokenizer.texts_to_sequences(['endseq'])[0]\n",
        "  for i in range(n_max_tokens):\n",
        "    seq_pad = pad_sequences([seq],maxlen=n_max_tokens)\n",
        "    y_pred = np.argmax(tweetmoji_model.predict([[emoji_vec], seq_pad]))\n",
        "    seq.append(y_pred)\n",
        "    if y_pred == endseq[0]:\n",
        "      break\n",
        "  tweet = tokenizer.sequences_to_texts([seq])[0]\n",
        "  return tweet"
      ],
      "execution_count": null,
      "outputs": []
    },
    {
      "cell_type": "markdown",
      "metadata": {
        "id": "Cs_ddjicX9KV",
        "colab_type": "text"
      },
      "source": [
        ""
      ]
    },
    {
      "cell_type": "code",
      "metadata": {
        "id": "2Ng7dJHeYYbr",
        "colab_type": "code",
        "colab": {
          "base_uri": "https://localhost:8080/",
          "height": 53
        },
        "outputId": "05fba68f-19e8-4872-b0f4-49e1a483b067"
      },
      "source": [
        "model_filename = '/content/drive/My Drive/Capstone/model_output/20200621_0239/tweetmoji-epoch06-loss4.5979.h5'\n",
        "model = load_model(model_filename)"
      ],
      "execution_count": null,
      "outputs": [
        {
          "output_type": "stream",
          "text": [
            "/usr/local/lib/python3.6/dist-packages/tensorflow/python/framework/indexed_slices.py:434: UserWarning: Converting sparse IndexedSlices to a dense Tensor of unknown shape. This may consume a large amount of memory.\n",
            "  \"Converting sparse IndexedSlices to a dense Tensor of unknown shape. \"\n"
          ],
          "name": "stderr"
        }
      ]
    },
    {
      "cell_type": "code",
      "metadata": {
        "id": "Fqu6egT9m29S",
        "colab_type": "code",
        "colab": {
          "base_uri": "https://localhost:8080/",
          "height": 391
        },
        "outputId": "981a2b93-202b-4c61-ef9f-f0729d56a1db"
      },
      "source": [
        "emoji_inputs = ['💗 🎄 👪', '🎄 👪', '👪', '😍', '🤣', '😡']\n",
        "generated_tweets = []\n",
        "for emojis in emoji_inputs:\n",
        "  gen_tweet = generate_tweet(model, tokenizer, n_max_tokens, emojis)\n",
        "  \n",
        "  generated_tweets.append(gen_tweet)\n",
        "  print (gen_tweet)\n"
      ],
      "execution_count": null,
      "outputs": [
        {
          "output_type": "error",
          "ename": "ValueError",
          "evalue": "ignored",
          "traceback": [
            "\u001b[0;31m---------------------------------------------------------------------------\u001b[0m",
            "\u001b[0;31mValueError\u001b[0m                                Traceback (most recent call last)",
            "\u001b[0;32m<ipython-input-12-aa8df8357192>\u001b[0m in \u001b[0;36m<module>\u001b[0;34m()\u001b[0m\n\u001b[1;32m      2\u001b[0m \u001b[0mgenerated_tweets\u001b[0m \u001b[0;34m=\u001b[0m \u001b[0;34m[\u001b[0m\u001b[0;34m]\u001b[0m\u001b[0;34m\u001b[0m\u001b[0;34m\u001b[0m\u001b[0m\n\u001b[1;32m      3\u001b[0m \u001b[0;32mfor\u001b[0m \u001b[0memojis\u001b[0m \u001b[0;32min\u001b[0m \u001b[0memoji_inputs\u001b[0m\u001b[0;34m:\u001b[0m\u001b[0;34m\u001b[0m\u001b[0;34m\u001b[0m\u001b[0m\n\u001b[0;32m----> 4\u001b[0;31m   \u001b[0mgen_tweet\u001b[0m \u001b[0;34m=\u001b[0m \u001b[0mgenerate_tweet\u001b[0m\u001b[0;34m(\u001b[0m\u001b[0mmodel\u001b[0m\u001b[0;34m,\u001b[0m \u001b[0mtokenizer\u001b[0m\u001b[0;34m,\u001b[0m \u001b[0mn_max_tokens\u001b[0m\u001b[0;34m,\u001b[0m \u001b[0memojis\u001b[0m\u001b[0;34m)\u001b[0m\u001b[0;34m\u001b[0m\u001b[0;34m\u001b[0m\u001b[0m\n\u001b[0m\u001b[1;32m      5\u001b[0m \u001b[0;34m\u001b[0m\u001b[0m\n\u001b[1;32m      6\u001b[0m   \u001b[0mgenerated_tweets\u001b[0m\u001b[0;34m.\u001b[0m\u001b[0mappend\u001b[0m\u001b[0;34m(\u001b[0m\u001b[0mgen_tweet\u001b[0m\u001b[0;34m)\u001b[0m\u001b[0;34m\u001b[0m\u001b[0;34m\u001b[0m\u001b[0m\n",
            "\u001b[0;32m<ipython-input-8-d773bb999602>\u001b[0m in \u001b[0;36mgenerate_tweet\u001b[0;34m(tweetmoji_model, tokenizer, n_max_tokens, in_emojis, in_text)\u001b[0m\n\u001b[1;32m      5\u001b[0m   \u001b[0;32mfor\u001b[0m \u001b[0mi\u001b[0m \u001b[0;32min\u001b[0m \u001b[0mrange\u001b[0m\u001b[0;34m(\u001b[0m\u001b[0mn_max_tokens\u001b[0m\u001b[0;34m)\u001b[0m\u001b[0;34m:\u001b[0m\u001b[0;34m\u001b[0m\u001b[0;34m\u001b[0m\u001b[0m\n\u001b[1;32m      6\u001b[0m     \u001b[0mseq_pad\u001b[0m \u001b[0;34m=\u001b[0m \u001b[0mpad_sequences\u001b[0m\u001b[0;34m(\u001b[0m\u001b[0;34m[\u001b[0m\u001b[0mseq\u001b[0m\u001b[0;34m]\u001b[0m\u001b[0;34m,\u001b[0m\u001b[0mmaxlen\u001b[0m\u001b[0;34m=\u001b[0m\u001b[0mn_max_tokens\u001b[0m\u001b[0;34m)\u001b[0m\u001b[0;34m\u001b[0m\u001b[0;34m\u001b[0m\u001b[0m\n\u001b[0;32m----> 7\u001b[0;31m     \u001b[0my_pred\u001b[0m \u001b[0;34m=\u001b[0m \u001b[0mnp\u001b[0m\u001b[0;34m.\u001b[0m\u001b[0margmax\u001b[0m\u001b[0;34m(\u001b[0m\u001b[0mtweetmoji_model\u001b[0m\u001b[0;34m.\u001b[0m\u001b[0mpredict\u001b[0m\u001b[0;34m(\u001b[0m\u001b[0;34m[\u001b[0m\u001b[0;34m[\u001b[0m\u001b[0memoji_vec\u001b[0m\u001b[0;34m]\u001b[0m\u001b[0;34m,\u001b[0m \u001b[0mseq_pad\u001b[0m\u001b[0;34m]\u001b[0m\u001b[0;34m)\u001b[0m\u001b[0;34m)\u001b[0m\u001b[0;34m\u001b[0m\u001b[0;34m\u001b[0m\u001b[0m\n\u001b[0m\u001b[1;32m      8\u001b[0m     \u001b[0mseq\u001b[0m\u001b[0;34m.\u001b[0m\u001b[0mappend\u001b[0m\u001b[0;34m(\u001b[0m\u001b[0my_pred\u001b[0m\u001b[0;34m)\u001b[0m\u001b[0;34m\u001b[0m\u001b[0;34m\u001b[0m\u001b[0m\n\u001b[1;32m      9\u001b[0m     \u001b[0;32mif\u001b[0m \u001b[0my_pred\u001b[0m \u001b[0;34m==\u001b[0m \u001b[0mendseq\u001b[0m\u001b[0;34m[\u001b[0m\u001b[0;36m0\u001b[0m\u001b[0;34m]\u001b[0m\u001b[0;34m:\u001b[0m\u001b[0;34m\u001b[0m\u001b[0;34m\u001b[0m\u001b[0m\n",
            "\u001b[0;32m/usr/local/lib/python3.6/dist-packages/keras/engine/training.py\u001b[0m in \u001b[0;36mpredict\u001b[0;34m(self, x, batch_size, verbose, steps, callbacks, max_queue_size, workers, use_multiprocessing)\u001b[0m\n\u001b[1;32m   1439\u001b[0m \u001b[0;34m\u001b[0m\u001b[0m\n\u001b[1;32m   1440\u001b[0m         \u001b[0;31m# Case 2: Symbolic tensors or Numpy array-like.\u001b[0m\u001b[0;34m\u001b[0m\u001b[0;34m\u001b[0m\u001b[0;34m\u001b[0m\u001b[0m\n\u001b[0;32m-> 1441\u001b[0;31m         \u001b[0mx\u001b[0m\u001b[0;34m,\u001b[0m \u001b[0m_\u001b[0m\u001b[0;34m,\u001b[0m \u001b[0m_\u001b[0m \u001b[0;34m=\u001b[0m \u001b[0mself\u001b[0m\u001b[0;34m.\u001b[0m\u001b[0m_standardize_user_data\u001b[0m\u001b[0;34m(\u001b[0m\u001b[0mx\u001b[0m\u001b[0;34m)\u001b[0m\u001b[0;34m\u001b[0m\u001b[0;34m\u001b[0m\u001b[0m\n\u001b[0m\u001b[1;32m   1442\u001b[0m         \u001b[0;32mif\u001b[0m \u001b[0mself\u001b[0m\u001b[0;34m.\u001b[0m\u001b[0mstateful\u001b[0m\u001b[0;34m:\u001b[0m\u001b[0;34m\u001b[0m\u001b[0;34m\u001b[0m\u001b[0m\n\u001b[1;32m   1443\u001b[0m             \u001b[0;32mif\u001b[0m \u001b[0mx\u001b[0m\u001b[0;34m[\u001b[0m\u001b[0;36m0\u001b[0m\u001b[0;34m]\u001b[0m\u001b[0;34m.\u001b[0m\u001b[0mshape\u001b[0m\u001b[0;34m[\u001b[0m\u001b[0;36m0\u001b[0m\u001b[0;34m]\u001b[0m \u001b[0;34m>\u001b[0m \u001b[0mbatch_size\u001b[0m \u001b[0;32mand\u001b[0m \u001b[0mx\u001b[0m\u001b[0;34m[\u001b[0m\u001b[0;36m0\u001b[0m\u001b[0;34m]\u001b[0m\u001b[0;34m.\u001b[0m\u001b[0mshape\u001b[0m\u001b[0;34m[\u001b[0m\u001b[0;36m0\u001b[0m\u001b[0;34m]\u001b[0m \u001b[0;34m%\u001b[0m \u001b[0mbatch_size\u001b[0m \u001b[0;34m!=\u001b[0m \u001b[0;36m0\u001b[0m\u001b[0;34m:\u001b[0m\u001b[0;34m\u001b[0m\u001b[0;34m\u001b[0m\u001b[0m\n",
            "\u001b[0;32m/usr/local/lib/python3.6/dist-packages/keras/engine/training.py\u001b[0m in \u001b[0;36m_standardize_user_data\u001b[0;34m(self, x, y, sample_weight, class_weight, check_array_lengths, batch_size)\u001b[0m\n\u001b[1;32m    577\u001b[0m             \u001b[0mfeed_input_shapes\u001b[0m\u001b[0;34m,\u001b[0m\u001b[0;34m\u001b[0m\u001b[0;34m\u001b[0m\u001b[0m\n\u001b[1;32m    578\u001b[0m             \u001b[0mcheck_batch_axis\u001b[0m\u001b[0;34m=\u001b[0m\u001b[0;32mFalse\u001b[0m\u001b[0;34m,\u001b[0m  \u001b[0;31m# Don't enforce the batch size.\u001b[0m\u001b[0;34m\u001b[0m\u001b[0;34m\u001b[0m\u001b[0m\n\u001b[0;32m--> 579\u001b[0;31m             exception_prefix='input')\n\u001b[0m\u001b[1;32m    580\u001b[0m \u001b[0;34m\u001b[0m\u001b[0m\n\u001b[1;32m    581\u001b[0m         \u001b[0;32mif\u001b[0m \u001b[0my\u001b[0m \u001b[0;32mis\u001b[0m \u001b[0;32mnot\u001b[0m \u001b[0;32mNone\u001b[0m\u001b[0;34m:\u001b[0m\u001b[0;34m\u001b[0m\u001b[0;34m\u001b[0m\u001b[0m\n",
            "\u001b[0;32m/usr/local/lib/python3.6/dist-packages/keras/engine/training_utils.py\u001b[0m in \u001b[0;36mstandardize_input_data\u001b[0;34m(data, names, shapes, check_batch_axis, exception_prefix)\u001b[0m\n\u001b[1;32m    143\u001b[0m                             \u001b[0;34m': expected '\u001b[0m \u001b[0;34m+\u001b[0m \u001b[0mnames\u001b[0m\u001b[0;34m[\u001b[0m\u001b[0mi\u001b[0m\u001b[0;34m]\u001b[0m \u001b[0;34m+\u001b[0m \u001b[0;34m' to have shape '\u001b[0m \u001b[0;34m+\u001b[0m\u001b[0;34m\u001b[0m\u001b[0;34m\u001b[0m\u001b[0m\n\u001b[1;32m    144\u001b[0m                             \u001b[0mstr\u001b[0m\u001b[0;34m(\u001b[0m\u001b[0mshape\u001b[0m\u001b[0;34m)\u001b[0m \u001b[0;34m+\u001b[0m \u001b[0;34m' but got array with shape '\u001b[0m \u001b[0;34m+\u001b[0m\u001b[0;34m\u001b[0m\u001b[0;34m\u001b[0m\u001b[0m\n\u001b[0;32m--> 145\u001b[0;31m                             str(data_shape))\n\u001b[0m\u001b[1;32m    146\u001b[0m     \u001b[0;32mreturn\u001b[0m \u001b[0mdata\u001b[0m\u001b[0;34m\u001b[0m\u001b[0;34m\u001b[0m\u001b[0m\n\u001b[1;32m    147\u001b[0m \u001b[0;34m\u001b[0m\u001b[0m\n",
            "\u001b[0;31mValueError\u001b[0m: Error when checking input: expected input_2 to have shape (77,) but got array with shape (32,)"
          ]
        }
      ]
    },
    {
      "cell_type": "code",
      "metadata": {
        "id": "nCW8_DHhu0rW",
        "colab_type": "code",
        "colab": {
          "base_uri": "https://localhost:8080/",
          "height": 53
        },
        "outputId": "2c3cd608-a638-460c-92c5-3b9270c19efc"
      },
      "source": [
        ""
      ],
      "execution_count": null,
      "outputs": [
        {
          "output_type": "stream",
          "text": [
            "/usr/local/lib/python3.6/dist-packages/tensorflow/python/framework/indexed_slices.py:434: UserWarning: Converting sparse IndexedSlices to a dense Tensor of unknown shape. This may consume a large amount of memory.\n",
            "  \"Converting sparse IndexedSlices to a dense Tensor of unknown shape. \"\n"
          ],
          "name": "stderr"
        }
      ]
    },
    {
      "cell_type": "code",
      "metadata": {
        "id": "f1WO5Xi4xKNX",
        "colab_type": "code",
        "colab": {}
      },
      "source": [
        "def evaluate_model(model, df, tokenizer, n_max_tokens):\n",
        "  actual, predicted = [], []\n",
        "  bleu_scores = []\n",
        "  for _, row in df.iterrows():\n",
        "    # Curently comparing to the only source emoji\n",
        "    reference_tweets = [row['tweet_text']]\n",
        "    gen_tweet = generate_tweet(model, tokenizer, n_max_tokens, row['emojis'])\n",
        "    actual.append(reference_tweets)\n",
        "    predicted.append(gen_tweet.split())\n",
        "  # corpus_bleu(actual, predicted, weights=(1.0, 0, 0, 0))\n",
        "  bleu1 = corpus_bleu(actual, predicted, weights=(1.0, 0, 0, 0))\n",
        "  bleu2 = corpus_bleu(actual, predicted, weights=(0.5, 0.5, 0, 0))\n",
        "  bleu3 = corpus_bleu(actual, predicted, weights=(0.3, 0.3, 0.3, 0))\n",
        "  bleu4 = corpus_bleu(actual, predicted, weights=(0.25, 0.25, 0.25, 0.25))\n",
        "  return [bleu1, bleu2, bleu3, bleu4]"
      ],
      "execution_count": null,
      "outputs": []
    },
    {
      "cell_type": "code",
      "metadata": {
        "id": "lpYcfHP3xhwc",
        "colab_type": "code",
        "colab": {
          "base_uri": "https://localhost:8080/",
          "height": 125
        },
        "outputId": "c999f791-9176-4639-ca2d-d3efddcdc207"
      },
      "source": [
        "model_names = [\n",
        "'tweetmoji-epoch01-loss6.7349.h5',\n",
        "'tweetmoji-epoch02-loss5.6913.h5',\n",
        "'tweetmoji-epoch03-loss5.2914.h5',\n",
        "'tweetmoji-epoch04-loss5.0304.h5',\n",
        "'tweetmoji-epoch05-loss4.7909.h5',\n",
        "'tweetmoji-epoch06-loss4.5979.h5',\n",
        "'tweetmoji-epoch07-loss4.4017.h5',\n",
        "'tweetmoji-epoch08-loss4.2939.h5',\n",
        "'tweetmoji-epoch09-loss4.1471.h5',\n",
        "'tweetmoji-epoch10-loss4.0349.h5'\n",
        "]\n",
        "\n",
        "model_dir = '/content/drive/My Drive/Capstone/model_output/20200621_0239'\n",
        "\n",
        "n_samples = 1000\n",
        "input_df = data_df[['tweet_text', 'emojis']].head(n_samples)\n",
        "\n",
        "bleu_scores = []\n",
        "for n, model_name in enumerate(model_names):\n",
        "  epoch = n+1\n",
        "  model_filename = os.path.join(model_dir, model_name)\n",
        "  model = load_model(model_filename)\n",
        "  bleu_scores.append(evaluate_model(model, input_df, tokenizer, n_max_tokens))"
      ],
      "execution_count": null,
      "outputs": [
        {
          "output_type": "stream",
          "text": [
            "/usr/local/lib/python3.6/dist-packages/tensorflow/python/framework/indexed_slices.py:434: UserWarning: Converting sparse IndexedSlices to a dense Tensor of unknown shape. This may consume a large amount of memory.\n",
            "  \"Converting sparse IndexedSlices to a dense Tensor of unknown shape. \"\n",
            "/usr/local/lib/python3.6/dist-packages/nltk/translate/bleu_score.py:490: UserWarning: \n",
            "Corpus/Sentence contains 0 counts of 2-gram overlaps.\n",
            "BLEU scores might be undesirable; use SmoothingFunction().\n",
            "  warnings.warn(_msg)\n"
          ],
          "name": "stderr"
        }
      ]
    },
    {
      "cell_type": "code",
      "metadata": {
        "id": "yL_M5a7607wC",
        "colab_type": "code",
        "colab": {}
      },
      "source": [
        "bleu_df = pd.DataFrame(bleu_scores, columns=['bleu-1', 'bleu-2', 'bleu-3', 'bleu-4'])"
      ],
      "execution_count": null,
      "outputs": []
    },
    {
      "cell_type": "code",
      "metadata": {
        "id": "-y4eumrI3AGy",
        "colab_type": "code",
        "colab": {}
      },
      "source": [
        "bleu_df.to_csv('/content/drive/My Drive/Capstone/bleu_scores_n1000.csv')"
      ],
      "execution_count": null,
      "outputs": []
    },
    {
      "cell_type": "code",
      "metadata": {
        "id": "nHooan281ZsY",
        "colab_type": "code",
        "colab": {
          "base_uri": "https://localhost:8080/",
          "height": 575
        },
        "outputId": "ca136e67-898e-4838-d1d2-018d6660a912"
      },
      "source": [
        "bleu_df.plot(y=bleu_df.columns, figsize=(16,9))\n",
        "plt.title('BLEU Scores for Random Sample of 1000 Tweet', fontsize=20)\n",
        "plt.xlabel('Number of Epochs',fontsize=12)\n",
        "plt.ylabel('BLEU Score',fontsize=12)\n",
        "plt.legend(prop={'size': 16})\n",
        "plt.show()"
      ],
      "execution_count": null,
      "outputs": [
        {
          "output_type": "display_data",
          "data": {
            "image/png": "[encoded data removed]",
            "text/plain": [
              "<Figure size 1152x648 with 1 Axes>"
            ]
          },
          "metadata": {
            "tags": [],
            "needs_background": "light"
          }
        }
      ]
    },
    {
      "cell_type": "code",
      "metadata": {
        "id": "v40mrKbu0T-D",
        "colab_type": "code",
        "colab": {
          "base_uri": "https://localhost:8080/",
          "height": 197
        },
        "outputId": "50330276-0205-4374-ba56-e22e98fc8af2"
      },
      "source": [
        "model_names = [\n",
        "'tweetmoji-epoch01-loss6.7349.h5',\n",
        "'tweetmoji-epoch02-loss5.6913.h5',\n",
        "'tweetmoji-epoch03-loss5.2914.h5',\n",
        "'tweetmoji-epoch04-loss5.0304.h5',\n",
        "'tweetmoji-epoch05-loss4.7909.h5',\n",
        "'tweetmoji-epoch06-loss4.5979.h5',\n",
        "'tweetmoji-epoch07-loss4.4017.h5',\n",
        "'tweetmoji-epoch08-loss4.2939.h5',\n",
        "'tweetmoji-epoch09-loss4.1471.h5',\n",
        "'tweetmoji-epoch10-loss4.0349.h5'\n",
        "]\n",
        "for epoch, model_name in enumerate(model_names):\n",
        "  print(epoch)"
      ],
      "execution_count": null,
      "outputs": [
        {
          "output_type": "stream",
          "text": [
            "0\n",
            "1\n",
            "2\n",
            "3\n",
            "4\n",
            "5\n",
            "6\n",
            "7\n",
            "8\n",
            "9\n"
          ],
          "name": "stdout"
        }
      ]
    },
    {
      "cell_type": "code",
      "metadata": {
        "id": "ks8Pof_5awzL",
        "colab_type": "code",
        "colab": {}
      },
      "source": [
        ""
      ],
      "execution_count": null,
      "outputs": []
    }
  ]
}